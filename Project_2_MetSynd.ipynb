{
  "nbformat": 4,
  "nbformat_minor": 0,
  "metadata": {
    "colab": {
      "provenance": [],
      "authorship_tag": "ABX9TyPHHV66kGU05SuhpXOlBItm",
      "include_colab_link": true
    },
    "kernelspec": {
      "name": "python3",
      "display_name": "Python 3"
    },
    "language_info": {
      "name": "python"
    }
  },
  "cells": [
    {
      "cell_type": "markdown",
      "metadata": {
        "id": "view-in-github",
        "colab_type": "text"
      },
      "source": [
        "<a href=\"https://colab.research.google.com/github/AshleyHeinrich/HealthcareClassification/blob/main/Project_2_MetSynd.ipynb\" target=\"_parent\"><img src=\"https://colab.research.google.com/assets/colab-badge.svg\" alt=\"Open In Colab\"/></a>"
      ]
    },
    {
      "cell_type": "markdown",
      "source": [
        "# Metabolic Syndrome\n",
        "Ashley Heinrich"
      ],
      "metadata": {
        "id": "GbJ7sxjX-nCP"
      }
    },
    {
      "cell_type": "markdown",
      "source": [
        "## Import and Load Data"
      ],
      "metadata": {
        "id": "UEuLxQq1-kBT"
      }
    },
    {
      "cell_type": "code",
      "execution_count": 2,
      "metadata": {
        "colab": {
          "base_uri": "https://localhost:8080/",
          "height": 270
        },
        "id": "LUNchvhGD1vW",
        "outputId": "9536981f-155d-4840-fca7-4034df14ad63"
      },
      "outputs": [
        {
          "output_type": "execute_result",
          "data": {
            "text/plain": [
              "    seqn  Age     Sex  Marital  Income   Race  WaistCirc   BMI  Albuminuria  \\\n",
              "0  62161   22    Male   Single  8200.0  White       81.0  23.3            0   \n",
              "1  62164   44  Female  Married  4500.0  White       80.1  23.2            0   \n",
              "2  62169   21    Male   Single   800.0  Asian       69.6  20.1            0   \n",
              "3  62172   43  Female   Single  2000.0  Black      120.4  33.3            0   \n",
              "4  62177   51    Male  Married     NaN  Asian       81.1  20.1            0   \n",
              "\n",
              "   UrAlbCr  UricAcid  BloodGlucose  HDL  Triglycerides MetabolicSyndrome  \n",
              "0     3.88       4.9            92   41             84         No MetSyn  \n",
              "1     8.55       4.5            82   28             56         No MetSyn  \n",
              "2     5.07       5.4           107   43             78         No MetSyn  \n",
              "3     5.22       5.0           104   73            141         No MetSyn  \n",
              "4     8.13       5.0            95   43            126         No MetSyn  "
            ],
            "text/html": [
              "\n",
              "  <div id=\"df-4cea43f9-ed34-44d3-b58d-a487fb5fe1a5\">\n",
              "    <div class=\"colab-df-container\">\n",
              "      <div>\n",
              "<style scoped>\n",
              "    .dataframe tbody tr th:only-of-type {\n",
              "        vertical-align: middle;\n",
              "    }\n",
              "\n",
              "    .dataframe tbody tr th {\n",
              "        vertical-align: top;\n",
              "    }\n",
              "\n",
              "    .dataframe thead th {\n",
              "        text-align: right;\n",
              "    }\n",
              "</style>\n",
              "<table border=\"1\" class=\"dataframe\">\n",
              "  <thead>\n",
              "    <tr style=\"text-align: right;\">\n",
              "      <th></th>\n",
              "      <th>seqn</th>\n",
              "      <th>Age</th>\n",
              "      <th>Sex</th>\n",
              "      <th>Marital</th>\n",
              "      <th>Income</th>\n",
              "      <th>Race</th>\n",
              "      <th>WaistCirc</th>\n",
              "      <th>BMI</th>\n",
              "      <th>Albuminuria</th>\n",
              "      <th>UrAlbCr</th>\n",
              "      <th>UricAcid</th>\n",
              "      <th>BloodGlucose</th>\n",
              "      <th>HDL</th>\n",
              "      <th>Triglycerides</th>\n",
              "      <th>MetabolicSyndrome</th>\n",
              "    </tr>\n",
              "  </thead>\n",
              "  <tbody>\n",
              "    <tr>\n",
              "      <th>0</th>\n",
              "      <td>62161</td>\n",
              "      <td>22</td>\n",
              "      <td>Male</td>\n",
              "      <td>Single</td>\n",
              "      <td>8200.0</td>\n",
              "      <td>White</td>\n",
              "      <td>81.0</td>\n",
              "      <td>23.3</td>\n",
              "      <td>0</td>\n",
              "      <td>3.88</td>\n",
              "      <td>4.9</td>\n",
              "      <td>92</td>\n",
              "      <td>41</td>\n",
              "      <td>84</td>\n",
              "      <td>No MetSyn</td>\n",
              "    </tr>\n",
              "    <tr>\n",
              "      <th>1</th>\n",
              "      <td>62164</td>\n",
              "      <td>44</td>\n",
              "      <td>Female</td>\n",
              "      <td>Married</td>\n",
              "      <td>4500.0</td>\n",
              "      <td>White</td>\n",
              "      <td>80.1</td>\n",
              "      <td>23.2</td>\n",
              "      <td>0</td>\n",
              "      <td>8.55</td>\n",
              "      <td>4.5</td>\n",
              "      <td>82</td>\n",
              "      <td>28</td>\n",
              "      <td>56</td>\n",
              "      <td>No MetSyn</td>\n",
              "    </tr>\n",
              "    <tr>\n",
              "      <th>2</th>\n",
              "      <td>62169</td>\n",
              "      <td>21</td>\n",
              "      <td>Male</td>\n",
              "      <td>Single</td>\n",
              "      <td>800.0</td>\n",
              "      <td>Asian</td>\n",
              "      <td>69.6</td>\n",
              "      <td>20.1</td>\n",
              "      <td>0</td>\n",
              "      <td>5.07</td>\n",
              "      <td>5.4</td>\n",
              "      <td>107</td>\n",
              "      <td>43</td>\n",
              "      <td>78</td>\n",
              "      <td>No MetSyn</td>\n",
              "    </tr>\n",
              "    <tr>\n",
              "      <th>3</th>\n",
              "      <td>62172</td>\n",
              "      <td>43</td>\n",
              "      <td>Female</td>\n",
              "      <td>Single</td>\n",
              "      <td>2000.0</td>\n",
              "      <td>Black</td>\n",
              "      <td>120.4</td>\n",
              "      <td>33.3</td>\n",
              "      <td>0</td>\n",
              "      <td>5.22</td>\n",
              "      <td>5.0</td>\n",
              "      <td>104</td>\n",
              "      <td>73</td>\n",
              "      <td>141</td>\n",
              "      <td>No MetSyn</td>\n",
              "    </tr>\n",
              "    <tr>\n",
              "      <th>4</th>\n",
              "      <td>62177</td>\n",
              "      <td>51</td>\n",
              "      <td>Male</td>\n",
              "      <td>Married</td>\n",
              "      <td>NaN</td>\n",
              "      <td>Asian</td>\n",
              "      <td>81.1</td>\n",
              "      <td>20.1</td>\n",
              "      <td>0</td>\n",
              "      <td>8.13</td>\n",
              "      <td>5.0</td>\n",
              "      <td>95</td>\n",
              "      <td>43</td>\n",
              "      <td>126</td>\n",
              "      <td>No MetSyn</td>\n",
              "    </tr>\n",
              "  </tbody>\n",
              "</table>\n",
              "</div>\n",
              "      <button class=\"colab-df-convert\" onclick=\"convertToInteractive('df-4cea43f9-ed34-44d3-b58d-a487fb5fe1a5')\"\n",
              "              title=\"Convert this dataframe to an interactive table.\"\n",
              "              style=\"display:none;\">\n",
              "        \n",
              "  <svg xmlns=\"http://www.w3.org/2000/svg\" height=\"24px\"viewBox=\"0 0 24 24\"\n",
              "       width=\"24px\">\n",
              "    <path d=\"M0 0h24v24H0V0z\" fill=\"none\"/>\n",
              "    <path d=\"M18.56 5.44l.94 2.06.94-2.06 2.06-.94-2.06-.94-.94-2.06-.94 2.06-2.06.94zm-11 1L8.5 8.5l.94-2.06 2.06-.94-2.06-.94L8.5 2.5l-.94 2.06-2.06.94zm10 10l.94 2.06.94-2.06 2.06-.94-2.06-.94-.94-2.06-.94 2.06-2.06.94z\"/><path d=\"M17.41 7.96l-1.37-1.37c-.4-.4-.92-.59-1.43-.59-.52 0-1.04.2-1.43.59L10.3 9.45l-7.72 7.72c-.78.78-.78 2.05 0 2.83L4 21.41c.39.39.9.59 1.41.59.51 0 1.02-.2 1.41-.59l7.78-7.78 2.81-2.81c.8-.78.8-2.07 0-2.86zM5.41 20L4 18.59l7.72-7.72 1.47 1.35L5.41 20z\"/>\n",
              "  </svg>\n",
              "      </button>\n",
              "      \n",
              "  <style>\n",
              "    .colab-df-container {\n",
              "      display:flex;\n",
              "      flex-wrap:wrap;\n",
              "      gap: 12px;\n",
              "    }\n",
              "\n",
              "    .colab-df-convert {\n",
              "      background-color: #E8F0FE;\n",
              "      border: none;\n",
              "      border-radius: 50%;\n",
              "      cursor: pointer;\n",
              "      display: none;\n",
              "      fill: #1967D2;\n",
              "      height: 32px;\n",
              "      padding: 0 0 0 0;\n",
              "      width: 32px;\n",
              "    }\n",
              "\n",
              "    .colab-df-convert:hover {\n",
              "      background-color: #E2EBFA;\n",
              "      box-shadow: 0px 1px 2px rgba(60, 64, 67, 0.3), 0px 1px 3px 1px rgba(60, 64, 67, 0.15);\n",
              "      fill: #174EA6;\n",
              "    }\n",
              "\n",
              "    [theme=dark] .colab-df-convert {\n",
              "      background-color: #3B4455;\n",
              "      fill: #D2E3FC;\n",
              "    }\n",
              "\n",
              "    [theme=dark] .colab-df-convert:hover {\n",
              "      background-color: #434B5C;\n",
              "      box-shadow: 0px 1px 3px 1px rgba(0, 0, 0, 0.15);\n",
              "      filter: drop-shadow(0px 1px 2px rgba(0, 0, 0, 0.3));\n",
              "      fill: #FFFFFF;\n",
              "    }\n",
              "  </style>\n",
              "\n",
              "      <script>\n",
              "        const buttonEl =\n",
              "          document.querySelector('#df-4cea43f9-ed34-44d3-b58d-a487fb5fe1a5 button.colab-df-convert');\n",
              "        buttonEl.style.display =\n",
              "          google.colab.kernel.accessAllowed ? 'block' : 'none';\n",
              "\n",
              "        async function convertToInteractive(key) {\n",
              "          const element = document.querySelector('#df-4cea43f9-ed34-44d3-b58d-a487fb5fe1a5');\n",
              "          const dataTable =\n",
              "            await google.colab.kernel.invokeFunction('convertToInteractive',\n",
              "                                                     [key], {});\n",
              "          if (!dataTable) return;\n",
              "\n",
              "          const docLinkHtml = 'Like what you see? Visit the ' +\n",
              "            '<a target=\"_blank\" href=https://colab.research.google.com/notebooks/data_table.ipynb>data table notebook</a>'\n",
              "            + ' to learn more about interactive tables.';\n",
              "          element.innerHTML = '';\n",
              "          dataTable['output_type'] = 'display_data';\n",
              "          await google.colab.output.renderOutput(dataTable, element);\n",
              "          const docLink = document.createElement('div');\n",
              "          docLink.innerHTML = docLinkHtml;\n",
              "          element.appendChild(docLink);\n",
              "        }\n",
              "      </script>\n",
              "    </div>\n",
              "  </div>\n",
              "  "
            ]
          },
          "metadata": {},
          "execution_count": 2
        }
      ],
      "source": [
        "## Pandas\n",
        "import pandas as pd\n",
        "## Numpy\n",
        "import numpy as np\n",
        "## MatplotLib\n",
        "import matplotlib.pyplot as plt\n",
        "## Seaborn\n",
        "import seaborn as sns\n",
        "\n",
        "filename=('https://docs.google.com/spreadsheets/d/e/2PACX-1vRZCC3KLSaYXzE69EA2IYa6udd-0VbkqlhrT08i0OUD1JX8sU5uIG4IVG5wlvQ8SZnfyKz3FnTuGcux/pub?output=csv')\n",
        "df = pd.read_csv(filename)\n",
        "df.head()"
      ]
    },
    {
      "cell_type": "markdown",
      "source": [
        "## Exploring and Cleaning Data"
      ],
      "metadata": {
        "id": "43ua5VSy-gQW"
      }
    },
    {
      "cell_type": "code",
      "source": [
        "df.info()\n",
        "# Has 2401 rows and 15 columns"
      ],
      "metadata": {
        "colab": {
          "base_uri": "https://localhost:8080/"
        },
        "id": "Ky6i165HEGI-",
        "outputId": "c4c440f0-d285-4aed-b3f0-57cb8e8af2ea"
      },
      "execution_count": 3,
      "outputs": [
        {
          "output_type": "stream",
          "name": "stdout",
          "text": [
            "<class 'pandas.core.frame.DataFrame'>\n",
            "RangeIndex: 2401 entries, 0 to 2400\n",
            "Data columns (total 15 columns):\n",
            " #   Column             Non-Null Count  Dtype  \n",
            "---  ------             --------------  -----  \n",
            " 0   seqn               2401 non-null   int64  \n",
            " 1   Age                2401 non-null   int64  \n",
            " 2   Sex                2401 non-null   object \n",
            " 3   Marital            2193 non-null   object \n",
            " 4   Income             2284 non-null   float64\n",
            " 5   Race               2401 non-null   object \n",
            " 6   WaistCirc          2316 non-null   float64\n",
            " 7   BMI                2375 non-null   float64\n",
            " 8   Albuminuria        2401 non-null   int64  \n",
            " 9   UrAlbCr            2401 non-null   float64\n",
            " 10  UricAcid           2401 non-null   float64\n",
            " 11  BloodGlucose       2401 non-null   int64  \n",
            " 12  HDL                2401 non-null   int64  \n",
            " 13  Triglycerides      2401 non-null   int64  \n",
            " 14  MetabolicSyndrome  2401 non-null   object \n",
            "dtypes: float64(5), int64(6), object(4)\n",
            "memory usage: 281.5+ KB\n"
          ]
        }
      ]
    },
    {
      "cell_type": "code",
      "source": [
        "df.nunique()\n",
        "# Dropping seqn column/high cardinality"
      ],
      "metadata": {
        "colab": {
          "base_uri": "https://localhost:8080/"
        },
        "id": "dqxIXjljTbAz",
        "outputId": "e76271eb-b89a-42fb-e0e0-5fc333e3f364"
      },
      "execution_count": 4,
      "outputs": [
        {
          "output_type": "execute_result",
          "data": {
            "text/plain": [
              "seqn                 2401\n",
              "Age                    61\n",
              "Sex                     2\n",
              "Marital                 5\n",
              "Income                 14\n",
              "Race                    6\n",
              "WaistCirc             635\n",
              "BMI                   322\n",
              "Albuminuria             3\n",
              "UrAlbCr              1383\n",
              "UricAcid               88\n",
              "BloodGlucose          187\n",
              "HDL                    93\n",
              "Triglycerides         345\n",
              "MetabolicSyndrome       2\n",
              "dtype: int64"
            ]
          },
          "metadata": {},
          "execution_count": 4
        }
      ]
    },
    {
      "cell_type": "code",
      "source": [
        "df['seqn'].value_counts()"
      ],
      "metadata": {
        "colab": {
          "base_uri": "https://localhost:8080/"
        },
        "id": "jmIwlfbPUY0E",
        "outputId": "8f432bd4-2e6a-46e3-95b0-0291d64e10b0"
      },
      "execution_count": 5,
      "outputs": [
        {
          "output_type": "execute_result",
          "data": {
            "text/plain": [
              "62161    1\n",
              "68696    1\n",
              "68702    1\n",
              "68703    1\n",
              "68706    1\n",
              "        ..\n",
              "65410    1\n",
              "65412    1\n",
              "65416    1\n",
              "65421    1\n",
              "71915    1\n",
              "Name: seqn, Length: 2401, dtype: int64"
            ]
          },
          "metadata": {},
          "execution_count": 5
        }
      ]
    },
    {
      "cell_type": "code",
      "source": [
        "df = df.drop(['seqn'], axis=1)\n",
        "df.head()"
      ],
      "metadata": {
        "colab": {
          "base_uri": "https://localhost:8080/",
          "height": 206
        },
        "id": "i-psX-tXUdFE",
        "outputId": "e0708e57-4d85-445c-eff6-53eb7f3b484c"
      },
      "execution_count": 6,
      "outputs": [
        {
          "output_type": "execute_result",
          "data": {
            "text/plain": [
              "   Age     Sex  Marital  Income   Race  WaistCirc   BMI  Albuminuria  UrAlbCr  \\\n",
              "0   22    Male   Single  8200.0  White       81.0  23.3            0     3.88   \n",
              "1   44  Female  Married  4500.0  White       80.1  23.2            0     8.55   \n",
              "2   21    Male   Single   800.0  Asian       69.6  20.1            0     5.07   \n",
              "3   43  Female   Single  2000.0  Black      120.4  33.3            0     5.22   \n",
              "4   51    Male  Married     NaN  Asian       81.1  20.1            0     8.13   \n",
              "\n",
              "   UricAcid  BloodGlucose  HDL  Triglycerides MetabolicSyndrome  \n",
              "0       4.9            92   41             84         No MetSyn  \n",
              "1       4.5            82   28             56         No MetSyn  \n",
              "2       5.4           107   43             78         No MetSyn  \n",
              "3       5.0           104   73            141         No MetSyn  \n",
              "4       5.0            95   43            126         No MetSyn  "
            ],
            "text/html": [
              "\n",
              "  <div id=\"df-94b189cd-f2f1-4372-92dc-50fd47d9a489\">\n",
              "    <div class=\"colab-df-container\">\n",
              "      <div>\n",
              "<style scoped>\n",
              "    .dataframe tbody tr th:only-of-type {\n",
              "        vertical-align: middle;\n",
              "    }\n",
              "\n",
              "    .dataframe tbody tr th {\n",
              "        vertical-align: top;\n",
              "    }\n",
              "\n",
              "    .dataframe thead th {\n",
              "        text-align: right;\n",
              "    }\n",
              "</style>\n",
              "<table border=\"1\" class=\"dataframe\">\n",
              "  <thead>\n",
              "    <tr style=\"text-align: right;\">\n",
              "      <th></th>\n",
              "      <th>Age</th>\n",
              "      <th>Sex</th>\n",
              "      <th>Marital</th>\n",
              "      <th>Income</th>\n",
              "      <th>Race</th>\n",
              "      <th>WaistCirc</th>\n",
              "      <th>BMI</th>\n",
              "      <th>Albuminuria</th>\n",
              "      <th>UrAlbCr</th>\n",
              "      <th>UricAcid</th>\n",
              "      <th>BloodGlucose</th>\n",
              "      <th>HDL</th>\n",
              "      <th>Triglycerides</th>\n",
              "      <th>MetabolicSyndrome</th>\n",
              "    </tr>\n",
              "  </thead>\n",
              "  <tbody>\n",
              "    <tr>\n",
              "      <th>0</th>\n",
              "      <td>22</td>\n",
              "      <td>Male</td>\n",
              "      <td>Single</td>\n",
              "      <td>8200.0</td>\n",
              "      <td>White</td>\n",
              "      <td>81.0</td>\n",
              "      <td>23.3</td>\n",
              "      <td>0</td>\n",
              "      <td>3.88</td>\n",
              "      <td>4.9</td>\n",
              "      <td>92</td>\n",
              "      <td>41</td>\n",
              "      <td>84</td>\n",
              "      <td>No MetSyn</td>\n",
              "    </tr>\n",
              "    <tr>\n",
              "      <th>1</th>\n",
              "      <td>44</td>\n",
              "      <td>Female</td>\n",
              "      <td>Married</td>\n",
              "      <td>4500.0</td>\n",
              "      <td>White</td>\n",
              "      <td>80.1</td>\n",
              "      <td>23.2</td>\n",
              "      <td>0</td>\n",
              "      <td>8.55</td>\n",
              "      <td>4.5</td>\n",
              "      <td>82</td>\n",
              "      <td>28</td>\n",
              "      <td>56</td>\n",
              "      <td>No MetSyn</td>\n",
              "    </tr>\n",
              "    <tr>\n",
              "      <th>2</th>\n",
              "      <td>21</td>\n",
              "      <td>Male</td>\n",
              "      <td>Single</td>\n",
              "      <td>800.0</td>\n",
              "      <td>Asian</td>\n",
              "      <td>69.6</td>\n",
              "      <td>20.1</td>\n",
              "      <td>0</td>\n",
              "      <td>5.07</td>\n",
              "      <td>5.4</td>\n",
              "      <td>107</td>\n",
              "      <td>43</td>\n",
              "      <td>78</td>\n",
              "      <td>No MetSyn</td>\n",
              "    </tr>\n",
              "    <tr>\n",
              "      <th>3</th>\n",
              "      <td>43</td>\n",
              "      <td>Female</td>\n",
              "      <td>Single</td>\n",
              "      <td>2000.0</td>\n",
              "      <td>Black</td>\n",
              "      <td>120.4</td>\n",
              "      <td>33.3</td>\n",
              "      <td>0</td>\n",
              "      <td>5.22</td>\n",
              "      <td>5.0</td>\n",
              "      <td>104</td>\n",
              "      <td>73</td>\n",
              "      <td>141</td>\n",
              "      <td>No MetSyn</td>\n",
              "    </tr>\n",
              "    <tr>\n",
              "      <th>4</th>\n",
              "      <td>51</td>\n",
              "      <td>Male</td>\n",
              "      <td>Married</td>\n",
              "      <td>NaN</td>\n",
              "      <td>Asian</td>\n",
              "      <td>81.1</td>\n",
              "      <td>20.1</td>\n",
              "      <td>0</td>\n",
              "      <td>8.13</td>\n",
              "      <td>5.0</td>\n",
              "      <td>95</td>\n",
              "      <td>43</td>\n",
              "      <td>126</td>\n",
              "      <td>No MetSyn</td>\n",
              "    </tr>\n",
              "  </tbody>\n",
              "</table>\n",
              "</div>\n",
              "      <button class=\"colab-df-convert\" onclick=\"convertToInteractive('df-94b189cd-f2f1-4372-92dc-50fd47d9a489')\"\n",
              "              title=\"Convert this dataframe to an interactive table.\"\n",
              "              style=\"display:none;\">\n",
              "        \n",
              "  <svg xmlns=\"http://www.w3.org/2000/svg\" height=\"24px\"viewBox=\"0 0 24 24\"\n",
              "       width=\"24px\">\n",
              "    <path d=\"M0 0h24v24H0V0z\" fill=\"none\"/>\n",
              "    <path d=\"M18.56 5.44l.94 2.06.94-2.06 2.06-.94-2.06-.94-.94-2.06-.94 2.06-2.06.94zm-11 1L8.5 8.5l.94-2.06 2.06-.94-2.06-.94L8.5 2.5l-.94 2.06-2.06.94zm10 10l.94 2.06.94-2.06 2.06-.94-2.06-.94-.94-2.06-.94 2.06-2.06.94z\"/><path d=\"M17.41 7.96l-1.37-1.37c-.4-.4-.92-.59-1.43-.59-.52 0-1.04.2-1.43.59L10.3 9.45l-7.72 7.72c-.78.78-.78 2.05 0 2.83L4 21.41c.39.39.9.59 1.41.59.51 0 1.02-.2 1.41-.59l7.78-7.78 2.81-2.81c.8-.78.8-2.07 0-2.86zM5.41 20L4 18.59l7.72-7.72 1.47 1.35L5.41 20z\"/>\n",
              "  </svg>\n",
              "      </button>\n",
              "      \n",
              "  <style>\n",
              "    .colab-df-container {\n",
              "      display:flex;\n",
              "      flex-wrap:wrap;\n",
              "      gap: 12px;\n",
              "    }\n",
              "\n",
              "    .colab-df-convert {\n",
              "      background-color: #E8F0FE;\n",
              "      border: none;\n",
              "      border-radius: 50%;\n",
              "      cursor: pointer;\n",
              "      display: none;\n",
              "      fill: #1967D2;\n",
              "      height: 32px;\n",
              "      padding: 0 0 0 0;\n",
              "      width: 32px;\n",
              "    }\n",
              "\n",
              "    .colab-df-convert:hover {\n",
              "      background-color: #E2EBFA;\n",
              "      box-shadow: 0px 1px 2px rgba(60, 64, 67, 0.3), 0px 1px 3px 1px rgba(60, 64, 67, 0.15);\n",
              "      fill: #174EA6;\n",
              "    }\n",
              "\n",
              "    [theme=dark] .colab-df-convert {\n",
              "      background-color: #3B4455;\n",
              "      fill: #D2E3FC;\n",
              "    }\n",
              "\n",
              "    [theme=dark] .colab-df-convert:hover {\n",
              "      background-color: #434B5C;\n",
              "      box-shadow: 0px 1px 3px 1px rgba(0, 0, 0, 0.15);\n",
              "      filter: drop-shadow(0px 1px 2px rgba(0, 0, 0, 0.3));\n",
              "      fill: #FFFFFF;\n",
              "    }\n",
              "  </style>\n",
              "\n",
              "      <script>\n",
              "        const buttonEl =\n",
              "          document.querySelector('#df-94b189cd-f2f1-4372-92dc-50fd47d9a489 button.colab-df-convert');\n",
              "        buttonEl.style.display =\n",
              "          google.colab.kernel.accessAllowed ? 'block' : 'none';\n",
              "\n",
              "        async function convertToInteractive(key) {\n",
              "          const element = document.querySelector('#df-94b189cd-f2f1-4372-92dc-50fd47d9a489');\n",
              "          const dataTable =\n",
              "            await google.colab.kernel.invokeFunction('convertToInteractive',\n",
              "                                                     [key], {});\n",
              "          if (!dataTable) return;\n",
              "\n",
              "          const docLinkHtml = 'Like what you see? Visit the ' +\n",
              "            '<a target=\"_blank\" href=https://colab.research.google.com/notebooks/data_table.ipynb>data table notebook</a>'\n",
              "            + ' to learn more about interactive tables.';\n",
              "          element.innerHTML = '';\n",
              "          dataTable['output_type'] = 'display_data';\n",
              "          await google.colab.output.renderOutput(dataTable, element);\n",
              "          const docLink = document.createElement('div');\n",
              "          docLink.innerHTML = docLinkHtml;\n",
              "          element.appendChild(docLink);\n",
              "        }\n",
              "      </script>\n",
              "    </div>\n",
              "  </div>\n",
              "  "
            ]
          },
          "metadata": {},
          "execution_count": 6
        }
      ]
    },
    {
      "cell_type": "code",
      "source": [
        "df.isna().sum()"
      ],
      "metadata": {
        "colab": {
          "base_uri": "https://localhost:8080/"
        },
        "id": "8DDmgnb2UHjD",
        "outputId": "ccc9c333-08dc-4a62-b793-3538cca5d79c"
      },
      "execution_count": 7,
      "outputs": [
        {
          "output_type": "execute_result",
          "data": {
            "text/plain": [
              "Age                    0\n",
              "Sex                    0\n",
              "Marital              208\n",
              "Income               117\n",
              "Race                   0\n",
              "WaistCirc             85\n",
              "BMI                   26\n",
              "Albuminuria            0\n",
              "UrAlbCr                0\n",
              "UricAcid               0\n",
              "BloodGlucose           0\n",
              "HDL                    0\n",
              "Triglycerides          0\n",
              "MetabolicSyndrome      0\n",
              "dtype: int64"
            ]
          },
          "metadata": {},
          "execution_count": 7
        }
      ]
    },
    {
      "cell_type": "code",
      "source": [
        "df.isna().sum() / len(df)*100\n",
        "# % of missing data present\n",
        "# Will impute post split"
      ],
      "metadata": {
        "colab": {
          "base_uri": "https://localhost:8080/"
        },
        "id": "tRTcaX5PVGdA",
        "outputId": "b33f18f7-492a-4fc3-d7a7-4c4c52d9b7f3"
      },
      "execution_count": 8,
      "outputs": [
        {
          "output_type": "execute_result",
          "data": {
            "text/plain": [
              "Age                  0.000000\n",
              "Sex                  0.000000\n",
              "Marital              8.663057\n",
              "Income               4.872970\n",
              "Race                 0.000000\n",
              "WaistCirc            3.540192\n",
              "BMI                  1.082882\n",
              "Albuminuria          0.000000\n",
              "UrAlbCr              0.000000\n",
              "UricAcid             0.000000\n",
              "BloodGlucose         0.000000\n",
              "HDL                  0.000000\n",
              "Triglycerides        0.000000\n",
              "MetabolicSyndrome    0.000000\n",
              "dtype: float64"
            ]
          },
          "metadata": {},
          "execution_count": 8
        }
      ]
    },
    {
      "cell_type": "code",
      "source": [
        "# No duplicates\n",
        "df.duplicated().sum()"
      ],
      "metadata": {
        "colab": {
          "base_uri": "https://localhost:8080/"
        },
        "id": "4xv6O0tZWe53",
        "outputId": "3514efda-4cbd-4588-9020-4e28f4a08730"
      },
      "execution_count": 9,
      "outputs": [
        {
          "output_type": "execute_result",
          "data": {
            "text/plain": [
              "0"
            ]
          },
          "metadata": {},
          "execution_count": 9
        }
      ]
    },
    {
      "cell_type": "code",
      "source": [
        "df.describe(include = 'number')"
      ],
      "metadata": {
        "colab": {
          "base_uri": "https://localhost:8080/",
          "height": 300
        },
        "id": "M_ucl3QJVOg5",
        "outputId": "5b86917e-8e00-41ca-eafb-65aa6d6a1eb0"
      },
      "execution_count": 10,
      "outputs": [
        {
          "output_type": "execute_result",
          "data": {
            "text/plain": [
              "               Age       Income    WaistCirc          BMI  Albuminuria  \\\n",
              "count  2401.000000  2284.000000  2316.000000  2375.000000  2401.000000   \n",
              "mean     48.691795  4005.253940    98.307254    28.702189     0.154102   \n",
              "std      17.632852  2954.032186    16.252634     6.662242     0.422780   \n",
              "min      20.000000   300.000000    56.200000    13.400000     0.000000   \n",
              "25%      34.000000  1600.000000    86.675000    24.000000     0.000000   \n",
              "50%      48.000000  2500.000000    97.000000    27.700000     0.000000   \n",
              "75%      63.000000  6200.000000   107.625000    32.100000     0.000000   \n",
              "max      80.000000  9000.000000   176.000000    68.700000     2.000000   \n",
              "\n",
              "           UrAlbCr     UricAcid  BloodGlucose          HDL  Triglycerides  \n",
              "count  2401.000000  2401.000000   2401.000000  2401.000000    2401.000000  \n",
              "mean     43.626131     5.489046    108.247813    53.369429     128.125364  \n",
              "std     258.272829     1.439358     34.820657    15.185537      95.322477  \n",
              "min       1.400000     1.800000     39.000000    14.000000      26.000000  \n",
              "25%       4.450000     4.500000     92.000000    43.000000      75.000000  \n",
              "50%       7.070000     5.400000     99.000000    51.000000     103.000000  \n",
              "75%      13.690000     6.400000    110.000000    62.000000     150.000000  \n",
              "max    5928.000000    11.300000    382.000000   156.000000    1562.000000  "
            ],
            "text/html": [
              "\n",
              "  <div id=\"df-a2b1b08a-19c0-4a7a-b4f4-537db0f338ca\">\n",
              "    <div class=\"colab-df-container\">\n",
              "      <div>\n",
              "<style scoped>\n",
              "    .dataframe tbody tr th:only-of-type {\n",
              "        vertical-align: middle;\n",
              "    }\n",
              "\n",
              "    .dataframe tbody tr th {\n",
              "        vertical-align: top;\n",
              "    }\n",
              "\n",
              "    .dataframe thead th {\n",
              "        text-align: right;\n",
              "    }\n",
              "</style>\n",
              "<table border=\"1\" class=\"dataframe\">\n",
              "  <thead>\n",
              "    <tr style=\"text-align: right;\">\n",
              "      <th></th>\n",
              "      <th>Age</th>\n",
              "      <th>Income</th>\n",
              "      <th>WaistCirc</th>\n",
              "      <th>BMI</th>\n",
              "      <th>Albuminuria</th>\n",
              "      <th>UrAlbCr</th>\n",
              "      <th>UricAcid</th>\n",
              "      <th>BloodGlucose</th>\n",
              "      <th>HDL</th>\n",
              "      <th>Triglycerides</th>\n",
              "    </tr>\n",
              "  </thead>\n",
              "  <tbody>\n",
              "    <tr>\n",
              "      <th>count</th>\n",
              "      <td>2401.000000</td>\n",
              "      <td>2284.000000</td>\n",
              "      <td>2316.000000</td>\n",
              "      <td>2375.000000</td>\n",
              "      <td>2401.000000</td>\n",
              "      <td>2401.000000</td>\n",
              "      <td>2401.000000</td>\n",
              "      <td>2401.000000</td>\n",
              "      <td>2401.000000</td>\n",
              "      <td>2401.000000</td>\n",
              "    </tr>\n",
              "    <tr>\n",
              "      <th>mean</th>\n",
              "      <td>48.691795</td>\n",
              "      <td>4005.253940</td>\n",
              "      <td>98.307254</td>\n",
              "      <td>28.702189</td>\n",
              "      <td>0.154102</td>\n",
              "      <td>43.626131</td>\n",
              "      <td>5.489046</td>\n",
              "      <td>108.247813</td>\n",
              "      <td>53.369429</td>\n",
              "      <td>128.125364</td>\n",
              "    </tr>\n",
              "    <tr>\n",
              "      <th>std</th>\n",
              "      <td>17.632852</td>\n",
              "      <td>2954.032186</td>\n",
              "      <td>16.252634</td>\n",
              "      <td>6.662242</td>\n",
              "      <td>0.422780</td>\n",
              "      <td>258.272829</td>\n",
              "      <td>1.439358</td>\n",
              "      <td>34.820657</td>\n",
              "      <td>15.185537</td>\n",
              "      <td>95.322477</td>\n",
              "    </tr>\n",
              "    <tr>\n",
              "      <th>min</th>\n",
              "      <td>20.000000</td>\n",
              "      <td>300.000000</td>\n",
              "      <td>56.200000</td>\n",
              "      <td>13.400000</td>\n",
              "      <td>0.000000</td>\n",
              "      <td>1.400000</td>\n",
              "      <td>1.800000</td>\n",
              "      <td>39.000000</td>\n",
              "      <td>14.000000</td>\n",
              "      <td>26.000000</td>\n",
              "    </tr>\n",
              "    <tr>\n",
              "      <th>25%</th>\n",
              "      <td>34.000000</td>\n",
              "      <td>1600.000000</td>\n",
              "      <td>86.675000</td>\n",
              "      <td>24.000000</td>\n",
              "      <td>0.000000</td>\n",
              "      <td>4.450000</td>\n",
              "      <td>4.500000</td>\n",
              "      <td>92.000000</td>\n",
              "      <td>43.000000</td>\n",
              "      <td>75.000000</td>\n",
              "    </tr>\n",
              "    <tr>\n",
              "      <th>50%</th>\n",
              "      <td>48.000000</td>\n",
              "      <td>2500.000000</td>\n",
              "      <td>97.000000</td>\n",
              "      <td>27.700000</td>\n",
              "      <td>0.000000</td>\n",
              "      <td>7.070000</td>\n",
              "      <td>5.400000</td>\n",
              "      <td>99.000000</td>\n",
              "      <td>51.000000</td>\n",
              "      <td>103.000000</td>\n",
              "    </tr>\n",
              "    <tr>\n",
              "      <th>75%</th>\n",
              "      <td>63.000000</td>\n",
              "      <td>6200.000000</td>\n",
              "      <td>107.625000</td>\n",
              "      <td>32.100000</td>\n",
              "      <td>0.000000</td>\n",
              "      <td>13.690000</td>\n",
              "      <td>6.400000</td>\n",
              "      <td>110.000000</td>\n",
              "      <td>62.000000</td>\n",
              "      <td>150.000000</td>\n",
              "    </tr>\n",
              "    <tr>\n",
              "      <th>max</th>\n",
              "      <td>80.000000</td>\n",
              "      <td>9000.000000</td>\n",
              "      <td>176.000000</td>\n",
              "      <td>68.700000</td>\n",
              "      <td>2.000000</td>\n",
              "      <td>5928.000000</td>\n",
              "      <td>11.300000</td>\n",
              "      <td>382.000000</td>\n",
              "      <td>156.000000</td>\n",
              "      <td>1562.000000</td>\n",
              "    </tr>\n",
              "  </tbody>\n",
              "</table>\n",
              "</div>\n",
              "      <button class=\"colab-df-convert\" onclick=\"convertToInteractive('df-a2b1b08a-19c0-4a7a-b4f4-537db0f338ca')\"\n",
              "              title=\"Convert this dataframe to an interactive table.\"\n",
              "              style=\"display:none;\">\n",
              "        \n",
              "  <svg xmlns=\"http://www.w3.org/2000/svg\" height=\"24px\"viewBox=\"0 0 24 24\"\n",
              "       width=\"24px\">\n",
              "    <path d=\"M0 0h24v24H0V0z\" fill=\"none\"/>\n",
              "    <path d=\"M18.56 5.44l.94 2.06.94-2.06 2.06-.94-2.06-.94-.94-2.06-.94 2.06-2.06.94zm-11 1L8.5 8.5l.94-2.06 2.06-.94-2.06-.94L8.5 2.5l-.94 2.06-2.06.94zm10 10l.94 2.06.94-2.06 2.06-.94-2.06-.94-.94-2.06-.94 2.06-2.06.94z\"/><path d=\"M17.41 7.96l-1.37-1.37c-.4-.4-.92-.59-1.43-.59-.52 0-1.04.2-1.43.59L10.3 9.45l-7.72 7.72c-.78.78-.78 2.05 0 2.83L4 21.41c.39.39.9.59 1.41.59.51 0 1.02-.2 1.41-.59l7.78-7.78 2.81-2.81c.8-.78.8-2.07 0-2.86zM5.41 20L4 18.59l7.72-7.72 1.47 1.35L5.41 20z\"/>\n",
              "  </svg>\n",
              "      </button>\n",
              "      \n",
              "  <style>\n",
              "    .colab-df-container {\n",
              "      display:flex;\n",
              "      flex-wrap:wrap;\n",
              "      gap: 12px;\n",
              "    }\n",
              "\n",
              "    .colab-df-convert {\n",
              "      background-color: #E8F0FE;\n",
              "      border: none;\n",
              "      border-radius: 50%;\n",
              "      cursor: pointer;\n",
              "      display: none;\n",
              "      fill: #1967D2;\n",
              "      height: 32px;\n",
              "      padding: 0 0 0 0;\n",
              "      width: 32px;\n",
              "    }\n",
              "\n",
              "    .colab-df-convert:hover {\n",
              "      background-color: #E2EBFA;\n",
              "      box-shadow: 0px 1px 2px rgba(60, 64, 67, 0.3), 0px 1px 3px 1px rgba(60, 64, 67, 0.15);\n",
              "      fill: #174EA6;\n",
              "    }\n",
              "\n",
              "    [theme=dark] .colab-df-convert {\n",
              "      background-color: #3B4455;\n",
              "      fill: #D2E3FC;\n",
              "    }\n",
              "\n",
              "    [theme=dark] .colab-df-convert:hover {\n",
              "      background-color: #434B5C;\n",
              "      box-shadow: 0px 1px 3px 1px rgba(0, 0, 0, 0.15);\n",
              "      filter: drop-shadow(0px 1px 2px rgba(0, 0, 0, 0.3));\n",
              "      fill: #FFFFFF;\n",
              "    }\n",
              "  </style>\n",
              "\n",
              "      <script>\n",
              "        const buttonEl =\n",
              "          document.querySelector('#df-a2b1b08a-19c0-4a7a-b4f4-537db0f338ca button.colab-df-convert');\n",
              "        buttonEl.style.display =\n",
              "          google.colab.kernel.accessAllowed ? 'block' : 'none';\n",
              "\n",
              "        async function convertToInteractive(key) {\n",
              "          const element = document.querySelector('#df-a2b1b08a-19c0-4a7a-b4f4-537db0f338ca');\n",
              "          const dataTable =\n",
              "            await google.colab.kernel.invokeFunction('convertToInteractive',\n",
              "                                                     [key], {});\n",
              "          if (!dataTable) return;\n",
              "\n",
              "          const docLinkHtml = 'Like what you see? Visit the ' +\n",
              "            '<a target=\"_blank\" href=https://colab.research.google.com/notebooks/data_table.ipynb>data table notebook</a>'\n",
              "            + ' to learn more about interactive tables.';\n",
              "          element.innerHTML = '';\n",
              "          dataTable['output_type'] = 'display_data';\n",
              "          await google.colab.output.renderOutput(dataTable, element);\n",
              "          const docLink = document.createElement('div');\n",
              "          docLink.innerHTML = docLinkHtml;\n",
              "          element.appendChild(docLink);\n",
              "        }\n",
              "      </script>\n",
              "    </div>\n",
              "  </div>\n",
              "  "
            ]
          },
          "metadata": {},
          "execution_count": 10
        }
      ]
    },
    {
      "cell_type": "markdown",
      "source": [
        "**Assumptions**"
      ],
      "metadata": {
        "id": "LJ0z-Sl3pi0s"
      }
    },
    {
      "cell_type": "code",
      "source": [
        "\"\"\"\n",
        "Normal Value Assumptions: \n",
        "(no column metrics provided)\n",
        "\n",
        "1)BMI: >30 falls within obesity range\n",
        "     < 18 is considered underweight\n",
        "\n",
        "2) Albuminuria: <30 mg/g is normal\n",
        "                > 30 could be indicative of kidney disease.\n",
        "                ** These are ranked as  0,1,2 no information available for\n",
        "                what this means; no true data dictionary. \n",
        "                Could potentially be referring to how chronic \n",
        "                kidney disease (CKD) ranks albuminuria: A1, A2, A3.\n",
        "                See link below\n",
        "\n",
        "3) Urine albumin to creatinine ratio(UrAlbCr)(UACR): <30mg/g is considered normal\n",
        "                                            > 500-1000 range strongly correlates\n",
        "                                            to kidney disease. \n",
        "\n",
        "4) Uric Acid: normal range 3.5-7.2mg/dl (increased levels are an indicator for MetSyn)\n",
        "\n",
        "5) Blood Glucose: normal is 70-100mg/dl. *Assuming this is a fasting blood sugar\n",
        "\n",
        "6) High Density Lipoprotein (HDL): >60mg/dl (higher #'s reduce\n",
        "                                              risk of Heart Disease)\n",
        "\n",
        "7) Triglycerides - normal is <150mg/dl\n",
        "\n",
        "8) Waist Circumference - measured in cm.\n",
        "\n",
        "Extra Information:\n",
        "\n",
        "- All reputable definitions of metabolic syndrome use some blend \n",
        "of the following criteria; (no definition provided for data set)\n",
        "\n",
        "1) Insulin resistance/hyperinsulinemia or hyperglycemia\n",
        "2) Increased waist circumference or waist/hip ratio\n",
        "3) Dyslipidemia (increased triglycerides)\n",
        "4) Dyslipidemia- secondary (decreased HDL)\n",
        "5) Hypertension (elevated blood pressure)**\n",
        "6) Microalbuminuria (moderately increased albuminuria)\n",
        "\n",
        "- High blood pressure is a leading cause of chronic kidney disease, \n",
        "whose diagnosis include elevated levels of some of the values in the data set; \n",
        "albuminuria, UACR and uric acid levels. \n",
        "- **High blood pressure can also be a complication of kidney disease as kidneys \n",
        "play an important role in keeping BP in a healthy range. \n",
        "- **There is no blood pressure in the data set, but we have lab values that have \n",
        "connections to kidney disease where blood pressure plays an integral role.\n",
        "- Both metabolic syndrome and CKD can lead to heart disease. \n",
        "- Both share many risk factors which co-occur in individuals. \n",
        "\n",
        "\n",
        "https://www.cdc.gov/healthyweight/assessing/index.html#:~:text=If%20your%20BMI%20is%20less,falls%20within%20the%20obese%20range.\n",
        "https://www.kidney.org/atoz/content/albuminuria#:~:text=A%20normal%20amount%20of%20albumin,GFR%20number%20is%20above%2060.\n",
        "https://www.ncbi.nlm.nih.gov/pmc/articles/PMC8678728/#:~:text=Urine%20albumin%E2%80%90to%E2%80%90creatinine%20ratio%20(UACR)%20is%20most,ranging%20around%2025%20mg%2Fg.\n",
        "https://www.kidney.org/professionals/explore-your-knowledge/how-to-classify-ckd\n",
        "https://www.ucsfhealth.org/en/medical-tests/uric-acid----blood-#:~:text=Normal%20Results,of%20your%20specific%20test%20results.\n",
        "https://my.clevelandclinic.org/health/diagnostics/12363-blood-glucose-test\n",
        "https://www.mayoclinic.org/diseases-conditions/high-blood-cholesterol/in-depth/hdl-cholesterol/art-20046388\n",
        "https://www.mayoclinic.org/diseases-conditions/high-blood-cholesterol/in-depth/triglycerides/art-20048186#:~:text=Borderline%20high%20%E2%80%94%20150%20to%20199,5.7%20mmol%2FL%20or%20above)\n",
        "https://www.ncbi.nlm.nih.gov/pmc/articles/PMC2675814/\n",
        "\"\"\""
      ],
      "metadata": {
        "colab": {
          "base_uri": "https://localhost:8080/",
          "height": 143
        },
        "id": "u8U6940bxcnb",
        "outputId": "ff17fecb-733a-4865-eaed-cf72d8e909c2"
      },
      "execution_count": 11,
      "outputs": [
        {
          "output_type": "execute_result",
          "data": {
            "text/plain": [
              "\"\\nNormal Value Assumptions: \\n(no column metrics provided)\\n\\n1)BMI: >30 falls within obesity range\\n     < 18 is considered underweight\\n\\n2) Albuminuria: <30 mg/g is normal\\n                > 30 could be indicative of kidney disease.\\n                ** These are ranked as  0,1,2 no information available for\\n                what this means; no true data dictionary. \\n                Could potentially be referring to how chronic \\n                kidney disease (CKD) ranks albuminuria: A1, A2, A3.\\n                See link below\\n\\n3) Urine albumin to creatinine ratio(UrAlbCr)(UACR): <30mg/g is considered normal\\n                                            > 500-1000 range strongly correlates\\n                                            to kidney disease. \\n\\n4) Uric Acid: normal range 3.5-7.2mg/dl (increased levels are an indicator for MetSyn)\\n\\n5) Blood Glucose: normal is 70-100mg/dl. *Assuming this is a fasting blood sugar\\n\\n6) High Density Lipoprotein (HDL): >60mg/dl (higher #'s reduce\\n                                              risk of Heart Disease)\\n\\n7) Triglycerides - normal is <150mg/dl\\n\\n8) Waist Circumference - measured in cm.\\n\\nExtra Information:\\n\\n- All reputable definitions of metabolic syndrome use some blend \\nof the following criteria; (no definition provided for data set)\\n\\n1) Insulin resistance/hyperinsulinemia or hyperglycemia\\n2) Increased waist circumference or waist/hip ratio\\n3) Dyslipidemia (increased triglycerides)\\n4) Dyslipidemia- secondary (decreased HDL)\\n5) Hypertension (elevated blood pressure)**\\n6) Microalbuminuria (moderately increased albuminuria)\\n\\n- High blood pressure is a leading cause of chronic kidney disease, \\nwhose diagnosis include elevated levels of some of the values in the data set; \\nalbuminuria, UACR and uric acid levels. \\n- **High blood pressure can also be a complication of kidney disease as kidneys \\nplay an important role in keeping BP in a healthy range. \\n- **There is no blood pressure in the data set, but we have lab values that have \\nconnections to kidney disease where blood pressure plays an integral role.\\n- Both metabolic syndrome and CKD can lead to heart disease. \\n- Both share many risk factors which co-occur in individuals. \\n\\n\\nhttps://www.cdc.gov/healthyweight/assessing/index.html#:~:text=If%20your%20BMI%20is%20less,falls%20within%20the%20obese%20range.\\nhttps://www.kidney.org/atoz/content/albuminuria#:~:text=A%20normal%20amount%20of%20albumin,GFR%20number%20is%20above%2060.\\nhttps://www.ncbi.nlm.nih.gov/pmc/articles/PMC8678728/#:~:text=Urine%20albumin%E2%80%90to%E2%80%90creatinine%20ratio%20(UACR)%20is%20most,ranging%20around%2025%20mg%2Fg.\\nhttps://www.kidney.org/professionals/explore-your-knowledge/how-to-classify-ckd\\nhttps://www.ucsfhealth.org/en/medical-tests/uric-acid----blood-#:~:text=Normal%20Results,of%20your%20specific%20test%20results.\\nhttps://my.clevelandclinic.org/health/diagnostics/12363-blood-glucose-test\\nhttps://www.mayoclinic.org/diseases-conditions/high-blood-cholesterol/in-depth/hdl-cholesterol/art-20046388\\nhttps://www.mayoclinic.org/diseases-conditions/high-blood-cholesterol/in-depth/triglycerides/art-20048186#:~:text=Borderline%20high%20%E2%80%94%20150%20to%20199,5.7%20mmol%2FL%20or%20above)\\nhttps://www.ncbi.nlm.nih.gov/pmc/articles/PMC2675814/\\n\""
            ],
            "application/vnd.google.colaboratory.intrinsic+json": {
              "type": "string"
            }
          },
          "metadata": {},
          "execution_count": 11
        }
      ]
    },
    {
      "cell_type": "code",
      "source": [
        "# Exploring higher values\n",
        "high_value = df[df['UrAlbCr'] > 3000].index\n",
        "high_value\n"
      ],
      "metadata": {
        "colab": {
          "base_uri": "https://localhost:8080/"
        },
        "id": "pjRyF2GbzghL",
        "outputId": "85a4d4ec-2246-4874-d63e-c57c5a3e592b"
      },
      "execution_count": 12,
      "outputs": [
        {
          "output_type": "execute_result",
          "data": {
            "text/plain": [
              "Int64Index([50, 140, 910, 1557, 2070, 2196], dtype='int64')"
            ]
          },
          "metadata": {},
          "execution_count": 12
        }
      ]
    },
    {
      "cell_type": "code",
      "source": [
        "\"\"\"\n",
        "Levels of pts with kidney disease can be over 1000.  \n",
        "Max of 5928 and extremely high values are being researched to make sure\n",
        "it's not nonsensical. Leaving for now. Waiting on information from an \n",
        "MD. \n",
        "\n",
        "\"\"\""
      ],
      "metadata": {
        "colab": {
          "base_uri": "https://localhost:8080/",
          "height": 53
        },
        "id": "5_FwECCN_KK3",
        "outputId": "663253a6-2342-4695-b897-ee7673e30581"
      },
      "execution_count": 13,
      "outputs": [
        {
          "output_type": "execute_result",
          "data": {
            "text/plain": [
              "\"\\nLevels of pts with kidney disease can be over 1000.  \\nMax of 5928 and extremely high values are being researched to make sure\\nit's not nonsensical. Leaving for now. Waiting on information from an \\nMD. \\n\\n\""
            ],
            "application/vnd.google.colaboratory.intrinsic+json": {
              "type": "string"
            }
          },
          "metadata": {},
          "execution_count": 13
        }
      ]
    },
    {
      "cell_type": "code",
      "source": [
        "# Exploring higher values\n",
        "high_tri = df[df['Triglycerides']>1000].index\n",
        "high_tri\n",
        "## Max is 1562 ... extremely high but not nonsensical"
      ],
      "metadata": {
        "colab": {
          "base_uri": "https://localhost:8080/"
        },
        "id": "qwECKCR_Xd09",
        "outputId": "1417eacf-30ce-4efd-8220-9d4587cca02b"
      },
      "execution_count": 14,
      "outputs": [
        {
          "output_type": "execute_result",
          "data": {
            "text/plain": [
              "Int64Index([1016, 2092], dtype='int64')"
            ]
          },
          "metadata": {},
          "execution_count": 14
        }
      ]
    },
    {
      "cell_type": "code",
      "source": [
        "df['Albuminuria'].value_counts()\n",
        "# Ranked somehow as 0,1,2. Would be a question I would ask for more information about. \n",
        "# A possibility for how is given in link below\n",
        "# https://www.kidney.org/professionals/explore-your-knowledge/how-to-classify-ckd"
      ],
      "metadata": {
        "colab": {
          "base_uri": "https://localhost:8080/"
        },
        "id": "JmyoCWI-zDLQ",
        "outputId": "4780b2fb-a4cb-41a1-f6bc-f18cdbc4832f"
      },
      "execution_count": 15,
      "outputs": [
        {
          "output_type": "execute_result",
          "data": {
            "text/plain": [
              "0    2089\n",
              "1     254\n",
              "2      58\n",
              "Name: Albuminuria, dtype: int64"
            ]
          },
          "metadata": {},
          "execution_count": 15
        }
      ]
    },
    {
      "cell_type": "code",
      "source": [
        "# Looking for Inconsistencies in object type columns\n",
        "dtypes = df.dtypes\n",
        "str_cols = dtypes[dtypes=='object'].index\n",
        "str_cols"
      ],
      "metadata": {
        "colab": {
          "base_uri": "https://localhost:8080/"
        },
        "id": "kSeZeSJ4Wbf_",
        "outputId": "d71c49e1-ab6c-4e40-998f-5fd15cd648ba"
      },
      "execution_count": 16,
      "outputs": [
        {
          "output_type": "execute_result",
          "data": {
            "text/plain": [
              "Index(['Sex', 'Marital', 'Race', 'MetabolicSyndrome'], dtype='object')"
            ]
          },
          "metadata": {},
          "execution_count": 16
        }
      ]
    },
    {
      "cell_type": "code",
      "source": [
        "for col in str_cols:\n",
        "    print(f\"- Column= {col}\")\n",
        "    print(df[col].value_counts(dropna=False))\n",
        "    print('\\n\\n')"
      ],
      "metadata": {
        "colab": {
          "base_uri": "https://localhost:8080/"
        },
        "id": "5VOw3b-IWdFj",
        "outputId": "ed4c1522-0c22-44a3-da6b-4e52dfc713a9"
      },
      "execution_count": 17,
      "outputs": [
        {
          "output_type": "stream",
          "name": "stdout",
          "text": [
            "- Column= Sex\n",
            "Female    1211\n",
            "Male      1190\n",
            "Name: Sex, dtype: int64\n",
            "\n",
            "\n",
            "\n",
            "- Column= Marital\n",
            "Married      1192\n",
            "Single        498\n",
            "Divorced      242\n",
            "NaN           208\n",
            "Widowed       166\n",
            "Separated      95\n",
            "Name: Marital, dtype: int64\n",
            "\n",
            "\n",
            "\n",
            "- Column= Race\n",
            "White          933\n",
            "Black          548\n",
            "Asian          349\n",
            "Hispanic       257\n",
            "MexAmerican    253\n",
            "Other           61\n",
            "Name: Race, dtype: int64\n",
            "\n",
            "\n",
            "\n",
            "- Column= MetabolicSyndrome\n",
            "No MetSyn    1579\n",
            "MetSyn        822\n",
            "Name: MetabolicSyndrome, dtype: int64\n",
            "\n",
            "\n",
            "\n"
          ]
        }
      ]
    },
    {
      "cell_type": "markdown",
      "source": [
        " \n",
        "\n",
        "\n",
        "1.   Target is imbalanced\n",
        "2.   Other columns are appropriate with consistent values\n",
        "\n"
      ],
      "metadata": {
        "id": "gQB2HgtXW6EU"
      }
    },
    {
      "cell_type": "markdown",
      "source": [
        "##Univariate Visualizations"
      ],
      "metadata": {
        "id": "pK-ZWVM_93fS"
      }
    },
    {
      "cell_type": "code",
      "source": [
        "sns.set_palette('pastel')"
      ],
      "metadata": {
        "id": "KcMwbGJiW5N9"
      },
      "execution_count": 18,
      "outputs": []
    },
    {
      "cell_type": "markdown",
      "source": [
        "**Target Countplot**"
      ],
      "metadata": {
        "id": "uIAlrURNHhXx"
      }
    },
    {
      "cell_type": "code",
      "source": [
        "sns.countplot(data=df, x='MetabolicSyndrome');"
      ],
      "metadata": {
        "colab": {
          "base_uri": "https://localhost:8080/",
          "height": 279
        },
        "id": "JnpIxD8qE-t_",
        "outputId": "1398b5ed-a3fa-4a67-d61f-5e4bf1d93553"
      },
      "execution_count": 19,
      "outputs": [
        {
          "output_type": "display_data",
          "data": {
            "text/plain": [
              "<Figure size 432x288 with 1 Axes>"
            ],
            "image/png": "[encoded data removed]"
          },
          "metadata": {
            "needs_background": "light"
          }
        }
      ]
    },
    {
      "cell_type": "markdown",
      "source": [
        "* More patients without metabolic syndrome than with in dataset (Target). "
      ],
      "metadata": {
        "id": "yxaZqQSsFIiA"
      }
    },
    {
      "cell_type": "markdown",
      "source": [
        "**Age Distribution and Boxplot**\n",
        "\n",
        "\n"
      ],
      "metadata": {
        "id": "SeiwMoA4HnpI"
      }
    },
    {
      "cell_type": "code",
      "source": [
        "plt.figure(figsize = (15,7))\n",
        "ax = sns.histplot(data = df, x = 'Age', bins=100);\n",
        "\n",
        "\n",
        "ax.set(title = 'Age Distribution', xlabel = 'Age')\n",
        "\n",
        "median = df['Age'].median()\n",
        "\n",
        "ax.axvline(median, color = 'black', ls = '--',\n",
        "           label = f'Median = {median}')\n",
        "\n",
        "ax.legend();"
      ],
      "metadata": {
        "colab": {
          "base_uri": "https://localhost:8080/",
          "height": 458
        },
        "id": "KKkbD73aD2QB",
        "outputId": "8ea9d628-4156-49e2-92a5-95bc4a1eeac6"
      },
      "execution_count": 20,
      "outputs": [
        {
          "output_type": "display_data",
          "data": {
            "text/plain": [
              "<Figure size 1080x504 with 1 Axes>"
            ],
            "image/png": "[encoded data removed]"
          },
          "metadata": {
            "needs_background": "light"
          }
        }
      ]
    },
    {
      "cell_type": "markdown",
      "source": [
        "* Wide variety of ages represented from all age groups. \n",
        "* Many pts right around 80 yrs old. \n",
        "* Median age of 48yrs old. "
      ],
      "metadata": {
        "id": "cJh0wLllFzcG"
      }
    },
    {
      "cell_type": "code",
      "source": [
        "df.boxplot(column = ['Age'], \n",
        "           notch = True, patch_artist = True, \n",
        "           medianprops = dict(linestyle='-', linewidth=2, color='Yellow'),\n",
        "           boxprops = dict(linestyle='--', linewidth=2, color='Black', facecolor = 'purple', alpha = .4));\n",
        "           \n",
        "plt.title('Age');"
      ],
      "metadata": {
        "colab": {
          "base_uri": "https://localhost:8080/",
          "height": 281
        },
        "id": "f7GhQq52H1jb",
        "outputId": "52ba48ed-d517-4821-ebc8-daf0f15855c9"
      },
      "execution_count": 21,
      "outputs": [
        {
          "output_type": "display_data",
          "data": {
            "text/plain": [
              "<Figure size 432x288 with 1 Axes>"
            ],
            "image/png": "[encoded data removed]"
          },
          "metadata": {
            "needs_background": "light"
          }
        }
      ]
    },
    {
      "cell_type": "markdown",
      "source": [
        "* No outliers present"
      ],
      "metadata": {
        "id": "sxWrpw1kH5EP"
      }
    },
    {
      "cell_type": "markdown",
      "source": [
        "**Sex Countplot**"
      ],
      "metadata": {
        "id": "AHwKJOOgSSXb"
      }
    },
    {
      "cell_type": "code",
      "source": [
        "sns.countplot(data=df, x='Sex');"
      ],
      "metadata": {
        "colab": {
          "base_uri": "https://localhost:8080/",
          "height": 279
        },
        "id": "OtoN0ysJSV6e",
        "outputId": "f000b586-f83a-4206-8441-3defd6ad4852"
      },
      "execution_count": 22,
      "outputs": [
        {
          "output_type": "display_data",
          "data": {
            "text/plain": [
              "<Figure size 432x288 with 1 Axes>"
            ],
            "image/png": "[encoded data removed]"
          },
          "metadata": {
            "needs_background": "light"
          }
        }
      ]
    },
    {
      "cell_type": "markdown",
      "source": [
        "* Almost equal amounts of male/females represented in data\n"
      ],
      "metadata": {
        "id": "x_99dHjISd-N"
      }
    },
    {
      "cell_type": "markdown",
      "source": [
        "**Marital Status Countplot**"
      ],
      "metadata": {
        "id": "qhwJ5a1ESoI0"
      }
    },
    {
      "cell_type": "code",
      "source": [
        "sns.countplot(data=df, x='Marital');"
      ],
      "metadata": {
        "colab": {
          "base_uri": "https://localhost:8080/",
          "height": 279
        },
        "id": "lk68dMbeSq-V",
        "outputId": "cb16e021-80cb-477c-b568-b3fb9477ee52"
      },
      "execution_count": 23,
      "outputs": [
        {
          "output_type": "display_data",
          "data": {
            "text/plain": [
              "<Figure size 432x288 with 1 Axes>"
            ],
            "image/png": "[encoded data removed]"
          },
          "metadata": {
            "needs_background": "light"
          }
        }
      ]
    },
    {
      "cell_type": "markdown",
      "source": [
        "* Most patients in data set are married. \n",
        "* Next most common status is single "
      ],
      "metadata": {
        "id": "nClE8PSUSxw4"
      }
    },
    {
      "cell_type": "markdown",
      "source": [
        "**Income Boxplot**"
      ],
      "metadata": {
        "id": "wkItuZLEHrQA"
      }
    },
    {
      "cell_type": "code",
      "source": [
        "df.boxplot(column = ['Income'], \n",
        "           notch = True, patch_artist = True, \n",
        "           medianprops = dict(linestyle='-', linewidth=2, color='green'),\n",
        "           boxprops = dict(linestyle='--', linewidth=2, color='Black', facecolor = 'yellow', alpha = .4));\n",
        "           \n",
        "plt.title('Income');"
      ],
      "metadata": {
        "colab": {
          "base_uri": "https://localhost:8080/",
          "height": 281
        },
        "id": "jKHOmAQMHC9d",
        "outputId": "61a11709-5820-4742-c7b1-ebc1a391228a"
      },
      "execution_count": 24,
      "outputs": [
        {
          "output_type": "display_data",
          "data": {
            "text/plain": [
              "<Figure size 432x288 with 1 Axes>"
            ],
            "image/png": "[encoded data removed]"
          },
          "metadata": {
            "needs_background": "light"
          }
        }
      ]
    },
    {
      "cell_type": "markdown",
      "source": [
        "* No outliers present"
      ],
      "metadata": {
        "id": "r1dfiJC2HEzC"
      }
    },
    {
      "cell_type": "markdown",
      "source": [
        "**Race Countplot**"
      ],
      "metadata": {
        "id": "OvUUyoioS6sl"
      }
    },
    {
      "cell_type": "code",
      "source": [
        "sns.countplot(data=df, x='Race');"
      ],
      "metadata": {
        "colab": {
          "base_uri": "https://localhost:8080/",
          "height": 279
        },
        "id": "GqSzINZmS8-o",
        "outputId": "ca78c8ce-7233-464a-8509-61fbb3ffcdd3"
      },
      "execution_count": 25,
      "outputs": [
        {
          "output_type": "display_data",
          "data": {
            "text/plain": [
              "<Figure size 432x288 with 1 Axes>"
            ],
            "image/png": "[encoded data removed]"
          },
          "metadata": {
            "needs_background": "light"
          }
        }
      ]
    },
    {
      "cell_type": "markdown",
      "source": [
        "* White has the highest amount of patients represented, followed by Black"
      ],
      "metadata": {
        "id": "on-CX7laTBgT"
      }
    },
    {
      "cell_type": "markdown",
      "source": [
        "**Waist Circumference**"
      ],
      "metadata": {
        "id": "xZyj0bM0IGXF"
      }
    },
    {
      "cell_type": "code",
      "source": [
        "df.boxplot(column = ['WaistCirc'], \n",
        "           notch = True, patch_artist = True, \n",
        "           medianprops = dict(linestyle='-', linewidth=2, color='Yellow'),\n",
        "           boxprops = dict(linestyle='--', linewidth=2, color='Black', facecolor = 'gray', alpha = .4));\n",
        "           \n",
        "plt.title('WaistCirc');"
      ],
      "metadata": {
        "colab": {
          "base_uri": "https://localhost:8080/",
          "height": 281
        },
        "id": "hCGZ33cwIKd9",
        "outputId": "5d0ace83-e459-4ad3-d1eb-4fb9f3df42c3"
      },
      "execution_count": 26,
      "outputs": [
        {
          "output_type": "display_data",
          "data": {
            "text/plain": [
              "<Figure size 432x288 with 1 Axes>"
            ],
            "image/png": "[encoded data removed]"
          },
          "metadata": {
            "needs_background": "light"
          }
        }
      ]
    },
    {
      "cell_type": "markdown",
      "source": [
        "* Many outliers present above maximum. "
      ],
      "metadata": {
        "id": "oCO_B0ktIXUb"
      }
    },
    {
      "cell_type": "markdown",
      "source": [
        "**BMI Distribution and Boxplot**"
      ],
      "metadata": {
        "id": "n-TNGUIWIdhX"
      }
    },
    {
      "cell_type": "code",
      "source": [
        "plt.figure(figsize = (15,7))\n",
        "ax = sns.histplot(data = df, x = 'BMI', bins=100);\n",
        "\n",
        "\n",
        "ax.set(title = 'BMI Distribution', xlabel = 'BMI')\n",
        "\n",
        "median = df['BMI'].median()\n",
        "\n",
        "ax.axvline(median, color = 'black', ls = '--',\n",
        "           label = f'Median = {median}')\n",
        "\n",
        "ax.legend();"
      ],
      "metadata": {
        "colab": {
          "base_uri": "https://localhost:8080/",
          "height": 458
        },
        "id": "SNtsKUOlIeGw",
        "outputId": "e5a020b7-a6c9-4477-94d2-827204f9b836"
      },
      "execution_count": 27,
      "outputs": [
        {
          "output_type": "display_data",
          "data": {
            "text/plain": [
              "<Figure size 1080x504 with 1 Axes>"
            ],
            "image/png": "[encoded data removed]"
          },
          "metadata": {
            "needs_background": "light"
          }
        }
      ]
    },
    {
      "cell_type": "markdown",
      "source": [
        "* Slightly right skewed with most data occuring around the median"
      ],
      "metadata": {
        "id": "FSpU3qClIxVr"
      }
    },
    {
      "cell_type": "code",
      "source": [
        "df.boxplot(column = ['BMI'], \n",
        "           notch = True, patch_artist = True, \n",
        "           medianprops = dict(linestyle='-', linewidth=2, color='Yellow'),\n",
        "           boxprops = dict(linestyle='--', linewidth=2, color='Black', facecolor = 'orange', alpha = .4));\n",
        "           \n",
        "plt.title('BMI');"
      ],
      "metadata": {
        "colab": {
          "base_uri": "https://localhost:8080/",
          "height": 281
        },
        "id": "ahGiTYIUJDgA",
        "outputId": "7ae18136-7e70-4f8b-bbd8-b2c5f544dc6d"
      },
      "execution_count": 28,
      "outputs": [
        {
          "output_type": "display_data",
          "data": {
            "text/plain": [
              "<Figure size 432x288 with 1 Axes>"
            ],
            "image/png": "[encoded data removed]"
          },
          "metadata": {
            "needs_background": "light"
          }
        }
      ]
    },
    {
      "cell_type": "markdown",
      "source": [
        "* Many outliers present above the maximum"
      ],
      "metadata": {
        "id": "WgQA9AYcJQLH"
      }
    },
    {
      "cell_type": "markdown",
      "source": [
        "**Albuminuria Countplot**"
      ],
      "metadata": {
        "id": "J96WFeLlJUuL"
      }
    },
    {
      "cell_type": "code",
      "source": [
        "sns.countplot(data=df, x='Albuminuria');"
      ],
      "metadata": {
        "colab": {
          "base_uri": "https://localhost:8080/",
          "height": 279
        },
        "id": "guYoySW6JpFO",
        "outputId": "a9736364-aee2-4543-b418-3708271430ec"
      },
      "execution_count": 29,
      "outputs": [
        {
          "output_type": "display_data",
          "data": {
            "text/plain": [
              "<Figure size 432x288 with 1 Axes>"
            ],
            "image/png": "[encoded data removed]"
          },
          "metadata": {
            "needs_background": "light"
          }
        }
      ]
    },
    {
      "cell_type": "markdown",
      "source": [
        "* Most values fall in the '0' category. \n",
        "* No data dictionary so there unfortunately isn't a reference point to give meaning to this order. "
      ],
      "metadata": {
        "id": "Gxda3gMcJ2Sr"
      }
    },
    {
      "cell_type": "markdown",
      "source": [
        "**Urine Albumin to Creatinine Ratio**"
      ],
      "metadata": {
        "id": "RZOJLAOsKab7"
      }
    },
    {
      "cell_type": "code",
      "source": [
        "df.boxplot(column = ['UrAlbCr'], \n",
        "           notch = True, patch_artist = True, \n",
        "           medianprops = dict(linestyle='-', linewidth=2, color='Yellow'),\n",
        "           boxprops = dict(linestyle='--', linewidth=2, color='Black', facecolor = 'purple', alpha = .4));\n",
        "        \n",
        "plt.title('Urine Albumin to Creatinine Ratio');"
      ],
      "metadata": {
        "colab": {
          "base_uri": "https://localhost:8080/",
          "height": 281
        },
        "id": "kA4G2cLvLJPh",
        "outputId": "0beeb848-38f3-4bae-a729-0799275057c5"
      },
      "execution_count": 30,
      "outputs": [
        {
          "output_type": "display_data",
          "data": {
            "text/plain": [
              "<Figure size 432x288 with 1 Axes>"
            ],
            "image/png": "[encoded data removed]"
          },
          "metadata": {
            "needs_background": "light"
          }
        }
      ]
    },
    {
      "cell_type": "markdown",
      "source": [
        "* Box is being compressed as a result of extreme outliers being accomodated by the scaling. \n",
        "* Many outliers above the maximum"
      ],
      "metadata": {
        "id": "bW-zmUF3NeZ-"
      }
    },
    {
      "cell_type": "code",
      "source": [
        "df['UrAlbCr'].describe()"
      ],
      "metadata": {
        "colab": {
          "base_uri": "https://localhost:8080/"
        },
        "id": "FtkUDr1CNvQS",
        "outputId": "995243e2-7d3f-43e6-9f84-94b2f36d8a75"
      },
      "execution_count": 31,
      "outputs": [
        {
          "output_type": "execute_result",
          "data": {
            "text/plain": [
              "count    2401.000000\n",
              "mean       43.626131\n",
              "std       258.272829\n",
              "min         1.400000\n",
              "25%         4.450000\n",
              "50%         7.070000\n",
              "75%        13.690000\n",
              "max      5928.000000\n",
              "Name: UrAlbCr, dtype: float64"
            ]
          },
          "metadata": {},
          "execution_count": 31
        }
      ]
    },
    {
      "cell_type": "markdown",
      "source": [
        "**Uric Acid**"
      ],
      "metadata": {
        "id": "D09WRYZcPEPr"
      }
    },
    {
      "cell_type": "code",
      "source": [
        "df.boxplot(column = ['UricAcid'], \n",
        "           notch = True, patch_artist = True, \n",
        "           medianprops = dict(linestyle='-', linewidth=2, color='Yellow'),\n",
        "           boxprops = dict(linestyle='--', linewidth=2, color='Black', facecolor = 'green', alpha = .4));\n",
        "        \n",
        "plt.title('UricAcid');"
      ],
      "metadata": {
        "colab": {
          "base_uri": "https://localhost:8080/",
          "height": 281
        },
        "id": "QqzA2V--O_fk",
        "outputId": "e8dfb906-a7ef-4528-ddde-61481727cead"
      },
      "execution_count": 32,
      "outputs": [
        {
          "output_type": "display_data",
          "data": {
            "text/plain": [
              "<Figure size 432x288 with 1 Axes>"
            ],
            "image/png": "[encoded data removed]"
          },
          "metadata": {
            "needs_background": "light"
          }
        }
      ]
    },
    {
      "cell_type": "markdown",
      "source": [
        "* Outliers present above the maximum "
      ],
      "metadata": {
        "id": "pnkMK45EPNBj"
      }
    },
    {
      "cell_type": "code",
      "source": [
        "plt.figure(figsize = (15,7))\n",
        "ax = sns.histplot(data = df, x = 'UricAcid', bins=100);\n",
        "\n",
        "\n",
        "ax.set(title = 'Uric Acid Distribution', xlabel = 'Uric Acid')\n",
        "\n",
        "median = df['UricAcid'].median()\n",
        "\n",
        "ax.axvline(median, color = 'black', ls = '--',\n",
        "           label = f'Median = {median}')\n",
        "\n",
        "ax.legend();"
      ],
      "metadata": {
        "colab": {
          "base_uri": "https://localhost:8080/",
          "height": 458
        },
        "id": "xLHTc86ePQbi",
        "outputId": "da1e69d3-8fca-4ae9-e5ad-1be65de7d598"
      },
      "execution_count": 33,
      "outputs": [
        {
          "output_type": "display_data",
          "data": {
            "text/plain": [
              "<Figure size 1080x504 with 1 Axes>"
            ],
            "image/png": "[encoded data removed]"
          },
          "metadata": {
            "needs_background": "light"
          }
        }
      ]
    },
    {
      "cell_type": "markdown",
      "source": [
        "* Fairly well distributed with some values having no representation in dataset. \n",
        "* Most of the data occurs around the median"
      ],
      "metadata": {
        "id": "QdfZsb0SPjHP"
      }
    },
    {
      "cell_type": "markdown",
      "source": [
        "**Blood Glucose**"
      ],
      "metadata": {
        "id": "FaAvL5GSPyFT"
      }
    },
    {
      "cell_type": "code",
      "source": [
        "df.boxplot(column = ['BloodGlucose'], \n",
        "           notch = True, patch_artist = True, \n",
        "           medianprops = dict(linestyle='-', linewidth=2, color='Yellow'),\n",
        "           boxprops = dict(linestyle='--', linewidth=2, color='Black', facecolor = 'blue', alpha = .4));\n",
        "        \n",
        "plt.title('BloodGlucose');"
      ],
      "metadata": {
        "colab": {
          "base_uri": "https://localhost:8080/",
          "height": 281
        },
        "id": "7epmk1oWQ4HM",
        "outputId": "cca8131a-ab2b-4779-b8e5-c141fbf8ee78"
      },
      "execution_count": 34,
      "outputs": [
        {
          "output_type": "display_data",
          "data": {
            "text/plain": [
              "<Figure size 432x288 with 1 Axes>"
            ],
            "image/png": "[encoded data removed]"
          },
          "metadata": {
            "needs_background": "light"
          }
        }
      ]
    },
    {
      "cell_type": "markdown",
      "source": [
        "* Box being compressed to accomodate many outliers both above the maximum and below the minimum. "
      ],
      "metadata": {
        "id": "xlXFkKIgRCRQ"
      }
    },
    {
      "cell_type": "code",
      "source": [
        "df['BloodGlucose'].describe()"
      ],
      "metadata": {
        "colab": {
          "base_uri": "https://localhost:8080/"
        },
        "id": "sRKRiW2vShAc",
        "outputId": "cf265c26-49d1-4a22-eec8-ffd61cdd3b19"
      },
      "execution_count": 35,
      "outputs": [
        {
          "output_type": "execute_result",
          "data": {
            "text/plain": [
              "count    2401.000000\n",
              "mean      108.247813\n",
              "std        34.820657\n",
              "min        39.000000\n",
              "25%        92.000000\n",
              "50%        99.000000\n",
              "75%       110.000000\n",
              "max       382.000000\n",
              "Name: BloodGlucose, dtype: float64"
            ]
          },
          "metadata": {},
          "execution_count": 35
        }
      ]
    },
    {
      "cell_type": "code",
      "source": [
        "plt.figure(figsize = (15,7))\n",
        "ax = sns.histplot(data = df, x = 'BloodGlucose', bins=100);\n",
        "\n",
        "\n",
        "ax.set(title = 'Blood Glucose Distribution', xlabel = 'Blood Glucose')\n",
        "\n",
        "median = df['BloodGlucose'].median()\n",
        "\n",
        "ax.axvline(median, color = 'black', ls = '--',\n",
        "           label = f'Median = {median}')\n",
        "\n",
        "ax.legend();"
      ],
      "metadata": {
        "colab": {
          "base_uri": "https://localhost:8080/",
          "height": 458
        },
        "id": "MGK0oQcVROie",
        "outputId": "9866475f-f5e3-4fea-f818-16d82badc226"
      },
      "execution_count": 40,
      "outputs": [
        {
          "output_type": "display_data",
          "data": {
            "text/plain": [
              "<Figure size 1080x504 with 1 Axes>"
            ],
            "image/png": "[encoded data removed]"
          },
          "metadata": {
            "needs_background": "light"
          }
        }
      ]
    },
    {
      "cell_type": "markdown",
      "source": [
        "* Right skewed with most values occuring around the median (99)"
      ],
      "metadata": {
        "id": "fMniSODLRaJv"
      }
    },
    {
      "cell_type": "markdown",
      "source": [
        "**HDL Cholesterol**"
      ],
      "metadata": {
        "id": "wYvYSuo4RNku"
      }
    },
    {
      "cell_type": "code",
      "source": [
        "df.boxplot(column = ['HDL'], \n",
        "           notch = True, patch_artist = True, \n",
        "           medianprops = dict(linestyle='-', linewidth=2, color='Yellow'),\n",
        "           boxprops = dict(linestyle='--', linewidth=2, color='Black', facecolor = 'pink', alpha = .4));\n",
        "        \n",
        "plt.title('HDL');"
      ],
      "metadata": {
        "colab": {
          "base_uri": "https://localhost:8080/",
          "height": 281
        },
        "id": "bknF1Rg3Rk8b",
        "outputId": "7967ee64-6764-40f2-e5b0-9774851d37f9"
      },
      "execution_count": 37,
      "outputs": [
        {
          "output_type": "display_data",
          "data": {
            "text/plain": [
              "<Figure size 432x288 with 1 Axes>"
            ],
            "image/png": "[encoded data removed]"
          },
          "metadata": {
            "needs_background": "light"
          }
        }
      ]
    },
    {
      "cell_type": "markdown",
      "source": [
        "* Many outliers above the maximum. \n",
        "* Outlier noted below the minimum "
      ],
      "metadata": {
        "id": "XYAIhE60Rtjf"
      }
    },
    {
      "cell_type": "markdown",
      "source": [
        "**Triglycerides**"
      ],
      "metadata": {
        "id": "nTV6DrKhSHRk"
      }
    },
    {
      "cell_type": "code",
      "source": [
        "df.boxplot(column = ['Triglycerides'], \n",
        "           notch = True, patch_artist = True, \n",
        "           medianprops = dict(linestyle='-', linewidth=2, color='Yellow'),\n",
        "           boxprops = dict(linestyle='--', linewidth=2, color='Black', facecolor = 'green', alpha = .4));\n",
        "        \n",
        "plt.title('Triglycerides');"
      ],
      "metadata": {
        "colab": {
          "base_uri": "https://localhost:8080/",
          "height": 281
        },
        "id": "Z5jQVHl1SJ1N",
        "outputId": "c90996d0-10fa-413e-da2b-1a58a35816cb"
      },
      "execution_count": 38,
      "outputs": [
        {
          "output_type": "display_data",
          "data": {
            "text/plain": [
              "<Figure size 432x288 with 1 Axes>"
            ],
            "image/png": "[encoded data removed]"
          },
          "metadata": {
            "needs_background": "light"
          }
        }
      ]
    },
    {
      "cell_type": "markdown",
      "source": [
        "* Box is being compressed as a result of extreme outliers being accomodated by the scaling. \n",
        "* Many outliers above the maximum"
      ],
      "metadata": {
        "id": "unF3BFVHSSXt"
      }
    },
    {
      "cell_type": "code",
      "source": [
        "df['Triglycerides'].describe()"
      ],
      "metadata": {
        "colab": {
          "base_uri": "https://localhost:8080/"
        },
        "id": "lkgP27c3Sl03",
        "outputId": "5bcadfa5-57d2-4ed5-e064-08e5b27cfd16"
      },
      "execution_count": 39,
      "outputs": [
        {
          "output_type": "execute_result",
          "data": {
            "text/plain": [
              "count    2401.000000\n",
              "mean      128.125364\n",
              "std        95.322477\n",
              "min        26.000000\n",
              "25%        75.000000\n",
              "50%       103.000000\n",
              "75%       150.000000\n",
              "max      1562.000000\n",
              "Name: Triglycerides, dtype: float64"
            ]
          },
          "metadata": {},
          "execution_count": 39
        }
      ]
    }
  ]
}